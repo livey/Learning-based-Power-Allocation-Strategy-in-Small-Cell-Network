{
 "cells": [
  {
   "cell_type": "code",
   "execution_count": 1,
   "metadata": {
    "collapsed": false
   },
   "outputs": [],
   "source": [
    "import xlrd\n",
    "import csv\n",
    "import pickle\n",
    "import numpy as np\n",
    "import copy\n",
    "from matplotlib import pyplot as plt\n",
    "import math\n",
    "import random\n",
    "import pandas as pd\n",
    "from numpy.random import choice\n",
    "from scipy import stats\n",
    "from collections import defaultdict\n",
    "from operator import itemgetter, sub\n",
    "from sklearn.metrics import roc_curve, auc, accuracy_score, explained_variance_score, \\\n",
    "    mean_squared_error, mean_absolute_error, median_absolute_error, r2_score\n",
    "from sklearn.model_selection import train_test_split\n",
    "from sklearn.preprocessing import StandardScaler, normalize\n",
    "from sklearn.neural_network import MLPClassifier, MLPRegressor\n",
    "from sklearn.linear_model import LogisticRegression, LinearRegression, ElasticNet, Lasso\n",
    "from sklearn.neighbors import KNeighborsClassifier\n",
    "from sklearn.svm import SVC, SVR\n",
    "from sklearn.tree import DecisionTreeClassifier\n",
    "from sklearn.ensemble import RandomForestClassifier\n",
    "from sklearn.naive_bayes import GaussianNB"
   ]
  },
  {
   "cell_type": "code",
   "execution_count": 2,
   "metadata": {
    "collapsed": true
   },
   "outputs": [],
   "source": [
    "class FileToSamples:\n",
    "    'convert the input .csv file to samples(Dataframe):\\\n",
    "    [Iteration,CellId,PilotPower,Load,Users,TBS,NB1Id*5,NB1Power*5,NB1Users*5,NB1Load*5\\\n",
    "    AveragePower,AverageLoad,AverageUser,TimeAveragePower,TimeAverageLoad,TimeAverageUser] '\n",
    "    \n",
    "    def __init__(self,filename):\n",
    "        self.samples = pd.read_pickle(filename) # type DataFrame (pandas package)  \n",
    "        # use for test feature selection\n",
    "        self.feature = FileToSamples.__getFeatues(self.samples)  # type DataFrame (pandas package) \n",
    "        self.target=self.samples['TBS']\n",
    "    @staticmethod\n",
    "    def __getFeatues(samples):\n",
    "        Testnumber =9\n",
    "        feature=[]\n",
    "        #nnEstimater = [TrainingNNModel()]*Testnumber\n",
    "        feature=[pd.DataFrame()]*Testnumber\n",
    "\n",
    "        feature[0]= samples[['PilotPower']]\n",
    "        feature[1]= samples[['PilotPower','TimeAverageUsers','TimeAverageLoad']]\n",
    "        feature[2]= samples[['PilotPower','Load','Users']]\n",
    "        feature[3]= samples[['PilotPower','Load','Users','TimeAverageUsers','TimeAverageLoad']]\n",
    "        feature[4]= samples[['PilotPower','NB1Power','NB2Power','NB3Power','NB4Power','NB5Power']]\n",
    "        feature[5]= samples[['PilotPower','Load','Users','NB1Power','NB2Power','NB3Power','NB4Power','NB5Power']]\n",
    "        feature[6]= samples[['PilotPower','Load','Users','TimeAverageUsers','TimeAverageLoad','NB1Power','NB2Power','NB3Power','NB4Power','NB5Power','AverageLoad','AverageUser']]\n",
    "        feature[7]= samples[['PilotPower','NB1Power','NB2Power','NB3Power','NB4Power','NB5Power','TimeAverageUsers','TimeAverageLoad']]\n",
    "        feature[8]= samples[['PilotPower','Load','Users','NB1Power','NB2Power','NB3Power','NB4Power','NB5Power','AverageLoad','AverageUser']]\n",
    "        return feature\n",
    "\n",
    "\n"
   ]
  },
  {
   "cell_type": "code",
   "execution_count": 3,
   "metadata": {
    "collapsed": true
   },
   "outputs": [],
   "source": [
    "class TrainingNNModel:\n",
    "    'to train neural network for the features'\n",
    "    def __init__(self):\n",
    "        self.model = MLPRegressor(hidden_layer_sizes=(20,), activation='logistic', alpha = 0.0001,\\\n",
    "                                  max_iter = 20000, tol=1e-4) # neural network model\n",
    "        self.scaler = StandardScaler() # scaler of input\n",
    "        \n",
    "    def train(self,feature,target):\n",
    "        self.scaler.fit(feature)\n",
    "        self.model.fit(self.scaler.transform(feature),target)\n",
    "        self.score= self.model.score(self.scaler.transform(feature),target)\n",
    "        self.estimateTarget = self.model.predict(self.scaler.transform(feature))\n",
    "        \n",
    "    def test(self,Testfeature,TestTarget):\n",
    "        self.TestScore= self.model.score(self.scaler.transform(Testfeature),TestTarget)\n",
    "        self.TestEstimateTarget = self.model.predict(self.scaler.transform(Testfeature))"
   ]
  },
  {
   "cell_type": "code",
   "execution_count": 4,
   "metadata": {
    "collapsed": true
   },
   "outputs": [],
   "source": [
    "class result:\n",
    "        def __init__(self,trainData,testData):\n",
    "            \n",
    "            Testnumber=9\n",
    "            #train\n",
    "            self.Estimater=[]\n",
    "            for i in range(Testnumber):\n",
    "                p= TrainingNNModel()\n",
    "                p.train(trainData.feature[i],trainData.target)\n",
    "                self.Estimater.append(p)\n",
    "\n",
    "            for i in range(Testnumber):\n",
    "                self.Estimater[i].test(testData.feature[i],testData.target) \n",
    "\n",
    "            #record\n",
    "            ScoreN11=[]\n",
    "            for i in range(Testnumber):\n",
    "                ScoreN11.append(self.Estimater[i].score)                 \n",
    "            self.score11=pd.DataFrame.from_dict(pd.Series(ScoreN11,name='R^2'))\n",
    "           \n",
    "            self.TBS11= trainData.samples[['TBS']]\n",
    "            for i in range(Testnumber):\n",
    "                self.TBS11.loc[:,'Estimate%d'%(i)]=self.Estimater[i].estimateTarget\n",
    "\n",
    "            ScoreN12=[]\n",
    "            for i in range(Testnumber):\n",
    "                ScoreN12.append(self.Estimater[i].TestScore)\n",
    "            self.score12=pd.DataFrame.from_dict(pd.Series(ScoreN12,name='R^2'))\n",
    "\n",
    "            self.TBS12= testData.samples[['TBS']]\n",
    "            for i in range(Testnumber):\n",
    "                self.TBS12.loc[:,'Estimate%d'%(i)]=self.Estimater[i].TestEstimateTarget\n",
    "\n",
    "\n"
   ]
  },
  {
   "cell_type": "code",
   "execution_count": 5,
   "metadata": {
    "collapsed": true
   },
   "outputs": [],
   "source": [
    "if __name__ == '__main__':\n",
    "    trainingFile = 'Data__Random3.csv.pkl'\n",
    "    #trainingFile = 'Workbook2.csv'\n",
    "    testFile = 'Data__Random4.csv.pkl'\n",
    "    \n",
    "    \n",
    "    testData = FileToSamples(testFile)\n",
    "    trainData = FileToSamples(trainingFile)\n",
    "\n",
    "#display setting\n",
    "#pd.set_option('max_columns', 40)\n",
    "#pd.set_option('max_rows', 200)\n",
    "#data.samples"
   ]
  },
  {
   "cell_type": "code",
   "execution_count": 6,
   "metadata": {
    "collapsed": false
   },
   "outputs": [
    {
     "name": "stderr",
     "output_type": "stream",
     "text": [
      "/Users/Fuwei/anaconda/lib/python2.7/site-packages/pandas/core/indexing.py:297: SettingWithCopyWarning: \n",
      "A value is trying to be set on a copy of a slice from a DataFrame.\n",
      "Try using .loc[row_indexer,col_indexer] = value instead\n",
      "\n",
      "See the caveats in the documentation: http://pandas.pydata.org/pandas-docs/stable/indexing.html#indexing-view-versus-copy\n",
      "  self.obj[key] = _infer_fill_value(value)\n",
      "/Users/Fuwei/anaconda/lib/python2.7/site-packages/pandas/core/indexing.py:561: SettingWithCopyWarning: \n",
      "A value is trying to be set on a copy of a slice from a DataFrame.\n",
      "Try using .loc[row_indexer,col_indexer] = value instead\n",
      "\n",
      "See the caveats in the documentation: http://pandas.pydata.org/pandas-docs/stable/indexing.html#indexing-view-versus-copy\n",
      "  self.obj[item_labels[indexer[info_axis]]] = value\n"
     ]
    }
   ],
   "source": [
    "result1=result(trainData,testData)\n",
    "result2=result(testData,trainData)"
   ]
  },
  {
   "cell_type": "code",
   "execution_count": 7,
   "metadata": {
    "collapsed": false,
    "scrolled": false
   },
   "outputs": [
    {
     "data": {
      "text/html": [
       "<div>\n",
       "<table border=\"1\" class=\"dataframe\">\n",
       "  <thead>\n",
       "    <tr style=\"text-align: right;\">\n",
       "      <th></th>\n",
       "      <th>R^2</th>\n",
       "      <th>R^2</th>\n",
       "      <th>R^2</th>\n",
       "      <th>R^2</th>\n",
       "    </tr>\n",
       "  </thead>\n",
       "  <tbody>\n",
       "    <tr>\n",
       "      <th>0</th>\n",
       "      <td>0.038551</td>\n",
       "      <td>0.035365</td>\n",
       "      <td>0.035058</td>\n",
       "      <td>0.036061</td>\n",
       "    </tr>\n",
       "    <tr>\n",
       "      <th>1</th>\n",
       "      <td>0.723473</td>\n",
       "      <td>0.713774</td>\n",
       "      <td>0.710053</td>\n",
       "      <td>0.716113</td>\n",
       "    </tr>\n",
       "    <tr>\n",
       "      <th>2</th>\n",
       "      <td>0.746424</td>\n",
       "      <td>0.635559</td>\n",
       "      <td>0.691896</td>\n",
       "      <td>0.669376</td>\n",
       "    </tr>\n",
       "    <tr>\n",
       "      <th>3</th>\n",
       "      <td>0.856449</td>\n",
       "      <td>0.798035</td>\n",
       "      <td>0.836670</td>\n",
       "      <td>0.829062</td>\n",
       "    </tr>\n",
       "    <tr>\n",
       "      <th>4</th>\n",
       "      <td>0.072408</td>\n",
       "      <td>0.068234</td>\n",
       "      <td>0.073448</td>\n",
       "      <td>0.066116</td>\n",
       "    </tr>\n",
       "    <tr>\n",
       "      <th>5</th>\n",
       "      <td>0.739031</td>\n",
       "      <td>0.727961</td>\n",
       "      <td>0.719541</td>\n",
       "      <td>0.724004</td>\n",
       "    </tr>\n",
       "    <tr>\n",
       "      <th>6</th>\n",
       "      <td>0.866869</td>\n",
       "      <td>0.804136</td>\n",
       "      <td>0.830689</td>\n",
       "      <td>0.828364</td>\n",
       "    </tr>\n",
       "    <tr>\n",
       "      <th>7</th>\n",
       "      <td>0.881760</td>\n",
       "      <td>0.824162</td>\n",
       "      <td>0.847793</td>\n",
       "      <td>0.841298</td>\n",
       "    </tr>\n",
       "    <tr>\n",
       "      <th>8</th>\n",
       "      <td>0.755254</td>\n",
       "      <td>0.747146</td>\n",
       "      <td>0.746176</td>\n",
       "      <td>0.746020</td>\n",
       "    </tr>\n",
       "  </tbody>\n",
       "</table>\n",
       "</div>"
      ],
      "text/plain": [
       "        R^2       R^2       R^2       R^2\n",
       "0  0.038551  0.035365  0.035058  0.036061\n",
       "1  0.723473  0.713774  0.710053  0.716113\n",
       "2  0.746424  0.635559  0.691896  0.669376\n",
       "3  0.856449  0.798035  0.836670  0.829062\n",
       "4  0.072408  0.068234  0.073448  0.066116\n",
       "5  0.739031  0.727961  0.719541  0.724004\n",
       "6  0.866869  0.804136  0.830689  0.828364\n",
       "7  0.881760  0.824162  0.847793  0.841298\n",
       "8  0.755254  0.747146  0.746176  0.746020"
      ]
     },
     "execution_count": 7,
     "metadata": {},
     "output_type": "execute_result"
    }
   ],
   "source": [
    "resultall = pd.concat([result1.score11, result1.score12,result2.score11,result2.score12], axis=1, join='inner')\n",
    "resultall"
   ]
  },
  {
   "cell_type": "code",
   "execution_count": 39,
   "metadata": {
    "collapsed": true
   },
   "outputs": [],
   "source": [
    "mse=9*[None]"
   ]
  },
  {
   "cell_type": "code",
   "execution_count": 41,
   "metadata": {
    "collapsed": false
   },
   "outputs": [],
   "source": [
    "for i in range(9):\n",
    "    mse[i] = metrics.mean_squared_error(testData.target,result1.TBS12.iloc[:,i+1])    "
   ]
  },
  {
   "cell_type": "code",
   "execution_count": 42,
   "metadata": {
    "collapsed": false
   },
   "outputs": [
    {
     "data": {
      "text/plain": [
       "[16532.850156686258,\n",
       " 4905.623030508963,\n",
       " 6246.149748623001,\n",
       " 3461.4678588055808,\n",
       " 15969.516912996143,\n",
       " 4662.4732639440817,\n",
       " 3356.9109582797951,\n",
       " 3013.6846585904755,\n",
       " 4333.6526918807876]"
      ]
     },
     "execution_count": 42,
     "metadata": {},
     "output_type": "execute_result"
    }
   ],
   "source": [
    "mse"
   ]
  }
 ],
 "metadata": {
  "kernelspec": {
   "display_name": "Python 2",
   "language": "python",
   "name": "python2"
  },
  "language_info": {
   "codemirror_mode": {
    "name": "ipython",
    "version": 2
   },
   "file_extension": ".py",
   "mimetype": "text/x-python",
   "name": "python",
   "nbconvert_exporter": "python",
   "pygments_lexer": "ipython2",
   "version": "2.7.13"
  }
 },
 "nbformat": 4,
 "nbformat_minor": 2
}
